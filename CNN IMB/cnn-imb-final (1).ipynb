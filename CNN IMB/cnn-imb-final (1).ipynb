{
 "cells": [
  {
   "cell_type": "code",
   "execution_count": 1,
   "metadata": {
    "execution": {
     "iopub.execute_input": "2021-11-28T02:07:07.297415Z",
     "iopub.status.busy": "2021-11-28T02:07:07.293759Z",
     "iopub.status.idle": "2021-11-28T02:07:07.491434Z",
     "shell.execute_reply": "2021-11-28T02:07:07.490642Z",
     "shell.execute_reply.started": "2021-11-28T02:07:07.297277Z"
    }
   },
   "outputs": [],
   "source": [
    "import shutil\n",
    "import glob\n",
    "import matplotlib.pyplot as plt\n",
    "import json\n",
    "import math\n",
    "import cv2\n",
    "import os\n",
    "#shutil.rmtree('/kaggle/working/augmented')"
   ]
  },
  {
   "cell_type": "code",
   "execution_count": 2,
   "metadata": {
    "execution": {
     "iopub.execute_input": "2021-11-28T02:07:07.497432Z",
     "iopub.status.busy": "2021-11-28T02:07:07.496712Z",
     "iopub.status.idle": "2021-11-28T02:07:07.504858Z",
     "shell.execute_reply": "2021-11-28T02:07:07.503791Z",
     "shell.execute_reply.started": "2021-11-28T02:07:07.497391Z"
    }
   },
   "outputs": [],
   "source": [
    "def getListOfFiles(dirName):\n",
    "    listOfFile = os.listdir(dirName)\n",
    "    allFiles = list()\n",
    "    \n",
    "    for entry in listOfFile:\n",
    "        fullPath = os.path.join(dirName, entry)\n",
    "        if os.path.isdir(fullPath):\n",
    "            allFiles = allFiles + getListOfFiles(fullPath)\n",
    "        else:\n",
    "            allFiles.append(fullPath)\n",
    "                \n",
    "    return allFiles"
   ]
  },
  {
   "cell_type": "code",
   "execution_count": 3,
   "metadata": {
    "execution": {
     "iopub.execute_input": "2021-11-28T02:07:07.506744Z",
     "iopub.status.busy": "2021-11-28T02:07:07.506413Z",
     "iopub.status.idle": "2021-11-28T02:07:12.689511Z",
     "shell.execute_reply": "2021-11-28T02:07:12.688799Z",
     "shell.execute_reply.started": "2021-11-28T02:07:07.506709Z"
    }
   },
   "outputs": [],
   "source": [
    "import shutil\n",
    "import glob\n",
    "import matplotlib.pyplot as plt\n",
    "import json\n",
    "import math\n",
    "import cv2\n",
    "import os\n",
    "#shutil.rmtree('/kaggle/working/augmented')\n",
    "import json\n",
    "import math\n",
    "import os\n",
    "\n",
    "import cv2\n",
    "from PIL import Image\n",
    "import numpy as np\n",
    "from tensorflow.keras import layers\n",
    "from tensorflow.keras.applications import VGG16\n",
    "from tensorflow.keras.models import Sequential, Model\n",
    "from tensorflow.keras.callbacks import Callback, ModelCheckpoint, ReduceLROnPlateau, TensorBoard\n",
    "from tensorflow.keras.preprocessing.image import ImageDataGenerator\n",
    "from tensorflow.keras.utils import to_categorical\n",
    "from tensorflow.keras.layers import GlobalAveragePooling2D\n",
    "from tensorflow.keras.models import Sequential\n",
    "from tensorflow.keras.optimizers import Adam\n",
    "from tensorflow.keras.layers import Flatten\n",
    "import matplotlib.pyplot as plt\n",
    "import pandas as pd\n",
    "from sklearn.model_selection import train_test_split\n",
    "from sklearn.metrics import cohen_kappa_score, accuracy_score\n",
    "import scipy\n",
    "from tqdm import tqdm\n",
    "import tensorflow as tf\n",
    "from tensorflow.keras import backend as K\n",
    "import gc\n",
    "from functools import partial\n",
    "from sklearn import metrics\n",
    "from collections import Counter\n",
    "import json\n",
    "import itertools\n",
    "import seaborn as sns \n",
    "from sklearn.utils import resample\n",
    "\n",
    "%matplotlib inline"
   ]
  },
  {
   "cell_type": "code",
   "execution_count": 4,
   "metadata": {
    "execution": {
     "iopub.execute_input": "2021-11-28T02:07:12.691319Z",
     "iopub.status.busy": "2021-11-28T02:07:12.690848Z",
     "iopub.status.idle": "2021-11-28T02:07:12.702805Z",
     "shell.execute_reply": "2021-11-28T02:07:12.701639Z",
     "shell.execute_reply.started": "2021-11-28T02:07:12.691246Z"
    }
   },
   "outputs": [],
   "source": [
    "def Dataset_loader(DIR, RESIZE, sigmaX=10):\n",
    "    IMG = []\n",
    "    read = lambda imname: np.asarray(Image.open(imname).convert(\"RGB\"))\n",
    "    for IMAGE_NAME in tqdm(os.listdir(DIR)):\n",
    "        PATH = os.path.join(DIR,IMAGE_NAME)\n",
    "        _, ftype = os.path.splitext(PATH)\n",
    "        if ftype == \".png\":\n",
    "            img = read(PATH)\n",
    "           \n",
    "            img = cv2.resize(img, (RESIZE,RESIZE))\n",
    "           \n",
    "            IMG.append(np.array(img))\n",
    "    return IMG\n",
    "\n",
    "def processing2(img_path):\n",
    "    img = cv2.imread(img_path)\n",
    "    image = cv2.cvtColor(img, cv2.COLOR_BGR2RGB)\n",
    "    image = cv2.resize(image, (150,150))\n",
    "    image = cv2.medianBlur(image, 5)\n",
    "    image = cv2.cvtColor(image, cv2.COLOR_RGB2HSV)\n",
    "    image[:, :, 2] = cv2.equalizeHist(image[:, :, 2])\n",
    "    image = cv2.cvtColor(image, cv2.COLOR_HSV2RGB)\n",
    "    cv2.imwrite(img_path,image)"
   ]
  },
  {
   "cell_type": "code",
   "execution_count": 5,
   "metadata": {
    "execution": {
     "iopub.execute_input": "2021-11-28T02:07:12.708266Z",
     "iopub.status.busy": "2021-11-28T02:07:12.707425Z",
     "iopub.status.idle": "2021-11-28T02:07:12.723293Z",
     "shell.execute_reply": "2021-11-28T02:07:12.722429Z",
     "shell.execute_reply.started": "2021-11-28T02:07:12.708227Z"
    }
   },
   "outputs": [],
   "source": [
    "def getListOfFiles(dirName):\n",
    "    listOfFile = os.listdir(dirName)\n",
    "    allFiles = list()\n",
    "    for entry in listOfFile:\n",
    "        fullPath = os.path.join(dirName, entry)\n",
    "        if os.path.isdir(fullPath):\n",
    "            allFiles = allFiles + getListOfFiles(fullPath)\n",
    "        else:\n",
    "            allFiles.append(fullPath)\n",
    "                \n",
    "    return allFiles"
   ]
  },
  {
   "cell_type": "code",
   "execution_count": 6,
   "metadata": {
    "execution": {
     "iopub.execute_input": "2021-11-28T02:07:12.724824Z",
     "iopub.status.busy": "2021-11-28T02:07:12.724439Z",
     "iopub.status.idle": "2021-11-28T02:07:12.732025Z",
     "shell.execute_reply": "2021-11-28T02:07:12.731261Z",
     "shell.execute_reply.started": "2021-11-28T02:07:12.724789Z"
    }
   },
   "outputs": [],
   "source": [
    "os.mkdir('augmented')\n",
    "os.mkdir('augmented/benign')\n",
    "os.mkdir('augmented/malignant')"
   ]
  },
  {
   "cell_type": "code",
   "execution_count": 7,
   "metadata": {
    "execution": {
     "iopub.execute_input": "2021-11-28T02:07:12.733276Z",
     "iopub.status.busy": "2021-11-28T02:07:12.733047Z",
     "iopub.status.idle": "2021-11-28T02:07:40.606382Z",
     "shell.execute_reply": "2021-11-28T02:07:40.605609Z",
     "shell.execute_reply.started": "2021-11-28T02:07:12.733248Z"
    }
   },
   "outputs": [],
   "source": [
    "files_benign=getListOfFiles('../input/breakhis/BreaKHis_v1/BreaKHis_v1/histology_slides/breast/benign')\n",
    "for f in files_benign:\n",
    "    if f.endswith('.png'):\n",
    "        shutil.copy(f,'augmented/benign')"
   ]
  },
  {
   "cell_type": "code",
   "execution_count": 8,
   "metadata": {
    "execution": {
     "iopub.execute_input": "2021-11-28T02:07:40.609840Z",
     "iopub.status.busy": "2021-11-28T02:07:40.609612Z",
     "iopub.status.idle": "2021-11-28T02:08:35.672580Z",
     "shell.execute_reply": "2021-11-28T02:08:35.671816Z",
     "shell.execute_reply.started": "2021-11-28T02:07:40.609815Z"
    }
   },
   "outputs": [],
   "source": [
    "files_malignant=getListOfFiles('../input/breakhis/BreaKHis_v1/BreaKHis_v1/histology_slides/breast/malignant')\n",
    "for f in files_malignant:\n",
    "    if f.endswith('.png'):\n",
    "        shutil.copy(f,'augmented/malignant')"
   ]
  },
  {
   "cell_type": "code",
   "execution_count": 9,
   "metadata": {
    "execution": {
     "iopub.execute_input": "2021-11-28T02:08:35.675389Z",
     "iopub.status.busy": "2021-11-28T02:08:35.674877Z",
     "iopub.status.idle": "2021-11-28T02:10:35.934674Z",
     "shell.execute_reply": "2021-11-28T02:10:35.933959Z",
     "shell.execute_reply.started": "2021-11-28T02:08:35.675352Z"
    }
   },
   "outputs": [],
   "source": [
    "benign_images = np.array(Dataset_loader('augmented/benign',150))\n",
    "malignent_images = np.array(Dataset_loader('augmented/malignant',150))"
   ]
  },
  {
   "cell_type": "code",
   "execution_count": 10,
   "metadata": {
    "execution": {
     "iopub.execute_input": "2021-11-28T02:10:35.936538Z",
     "iopub.status.busy": "2021-11-28T02:10:35.936264Z",
     "iopub.status.idle": "2021-11-28T02:10:35.941849Z",
     "shell.execute_reply": "2021-11-28T02:10:35.941031Z",
     "shell.execute_reply.started": "2021-11-28T02:10:35.936504Z"
    }
   },
   "outputs": [],
   "source": [
    "print(benign_images.shape)\n",
    "print(malignent_images.shape)"
   ]
  },
  {
   "cell_type": "code",
   "execution_count": 11,
   "metadata": {
    "execution": {
     "iopub.execute_input": "2021-11-28T02:10:35.943818Z",
     "iopub.status.busy": "2021-11-28T02:10:35.943462Z",
     "iopub.status.idle": "2021-11-28T02:10:36.590276Z",
     "shell.execute_reply": "2021-11-28T02:10:36.589570Z",
     "shell.execute_reply.started": "2021-11-28T02:10:35.943675Z"
    }
   },
   "outputs": [],
   "source": [
    "benign_upsampled = resample(benign_images,n_samples=malignent_images.shape[0],random_state=42)\n",
    "len(benign_upsampled)"
   ]
  },
  {
   "cell_type": "code",
   "execution_count": 12,
   "metadata": {
    "execution": {
     "iopub.execute_input": "2021-11-28T02:10:36.595732Z",
     "iopub.status.busy": "2021-11-28T02:10:36.593838Z",
     "iopub.status.idle": "2021-11-28T02:10:36.608016Z",
     "shell.execute_reply": "2021-11-28T02:10:36.607364Z",
     "shell.execute_reply.started": "2021-11-28T02:10:36.595697Z"
    }
   },
   "outputs": [],
   "source": [
    "whole_data = np.array([])\n",
    "whole_data"
   ]
  },
  {
   "cell_type": "code",
   "execution_count": 13,
   "metadata": {
    "execution": {
     "iopub.execute_input": "2021-11-28T02:10:36.614864Z",
     "iopub.status.busy": "2021-11-28T02:10:36.612581Z",
     "iopub.status.idle": "2021-11-28T02:10:37.753146Z",
     "shell.execute_reply": "2021-11-28T02:10:37.752477Z",
     "shell.execute_reply.started": "2021-11-28T02:10:36.614825Z"
    }
   },
   "outputs": [],
   "source": [
    "whole_data = np.concatenate((benign_upsampled, malignent_images), axis=0)\n",
    "len(whole_data)"
   ]
  },
  {
   "cell_type": "code",
   "execution_count": 14,
   "metadata": {
    "execution": {
     "iopub.execute_input": "2021-11-28T02:10:37.756644Z",
     "iopub.status.busy": "2021-11-28T02:10:37.756440Z",
     "iopub.status.idle": "2021-11-28T02:10:37.763369Z",
     "shell.execute_reply": "2021-11-28T02:10:37.762562Z",
     "shell.execute_reply.started": "2021-11-28T02:10:37.756619Z"
    }
   },
   "outputs": [],
   "source": [
    "whole_data.shape"
   ]
  },
  {
   "cell_type": "code",
   "execution_count": 15,
   "metadata": {
    "execution": {
     "iopub.execute_input": "2021-11-28T02:10:37.765349Z",
     "iopub.status.busy": "2021-11-28T02:10:37.764838Z",
     "iopub.status.idle": "2021-11-28T02:10:37.773720Z",
     "shell.execute_reply": "2021-11-28T02:10:37.772722Z",
     "shell.execute_reply.started": "2021-11-28T02:10:37.765292Z"
    }
   },
   "outputs": [],
   "source": [
    "labels = np.concatenate((np.zeros(len(benign_upsampled)),np.ones(len(malignent_images))))\n",
    "labels"
   ]
  },
  {
   "cell_type": "code",
   "execution_count": 16,
   "metadata": {
    "execution": {
     "iopub.execute_input": "2021-11-28T02:10:37.775780Z",
     "iopub.status.busy": "2021-11-28T02:10:37.775486Z",
     "iopub.status.idle": "2021-11-28T02:10:37.782971Z",
     "shell.execute_reply": "2021-11-28T02:10:37.781977Z",
     "shell.execute_reply.started": "2021-11-28T02:10:37.775744Z"
    }
   },
   "outputs": [],
   "source": [
    "labels.shape"
   ]
  },
  {
   "cell_type": "code",
   "execution_count": 17,
   "metadata": {
    "execution": {
     "iopub.execute_input": "2021-11-28T02:10:37.785420Z",
     "iopub.status.busy": "2021-11-28T02:10:37.785066Z",
     "iopub.status.idle": "2021-11-28T02:10:38.587667Z",
     "shell.execute_reply": "2021-11-28T02:10:38.586954Z",
     "shell.execute_reply.started": "2021-11-28T02:10:37.785382Z"
    }
   },
   "outputs": [],
   "source": [
    "X_train, X_test, y_train, y_test = train_test_split(whole_data, labels, test_size=0.25,random_state=42)\n",
    "X_test, X_val, y_test, y_val = train_test_split(X_test, y_test, random_state=42, test_size=0.2 , shuffle=True)"
   ]
  },
  {
   "cell_type": "code",
   "execution_count": 18,
   "metadata": {
    "execution": {
     "iopub.execute_input": "2021-11-28T02:10:38.590386Z",
     "iopub.status.busy": "2021-11-28T02:10:38.589869Z",
     "iopub.status.idle": "2021-11-28T02:10:38.596025Z",
     "shell.execute_reply": "2021-11-28T02:10:38.595347Z",
     "shell.execute_reply.started": "2021-11-28T02:10:38.590348Z"
    }
   },
   "outputs": [],
   "source": [
    "X_train.shape"
   ]
  },
  {
   "cell_type": "code",
   "execution_count": 19,
   "metadata": {
    "execution": {
     "iopub.execute_input": "2021-11-28T02:10:38.598121Z",
     "iopub.status.busy": "2021-11-28T02:10:38.597778Z",
     "iopub.status.idle": "2021-11-28T02:10:40.043177Z",
     "shell.execute_reply": "2021-11-28T02:10:40.042418Z",
     "shell.execute_reply.started": "2021-11-28T02:10:38.598088Z"
    }
   },
   "outputs": [],
   "source": [
    "w=60\n",
    "h=40\n",
    "fig=plt.figure(figsize=(15, 15))\n",
    "columns = 4\n",
    "rows = 3\n",
    "title = ''\n",
    "for i in range(1, columns*rows +1):\n",
    "    ax = fig.add_subplot(rows, columns, i)\n",
    "    if y_train[i] == 0:\n",
    "        title='Benign'\n",
    "    else:\n",
    "        title='Malignant'\n",
    "    ax.title.set_text(title)\n",
    "    plt.imshow(X_train[i], interpolation='nearest')\n",
    "plt.show()"
   ]
  },
  {
   "cell_type": "code",
   "execution_count": 20,
   "metadata": {
    "execution": {
     "iopub.execute_input": "2021-11-28T02:10:40.044531Z",
     "iopub.status.busy": "2021-11-28T02:10:40.044291Z",
     "iopub.status.idle": "2021-11-28T02:10:40.049734Z",
     "shell.execute_reply": "2021-11-28T02:10:40.049046Z",
     "shell.execute_reply.started": "2021-11-28T02:10:40.044498Z"
    }
   },
   "outputs": [],
   "source": [
    "BATCH_SIZE = 16\n",
    "\n",
    "train_generator = ImageDataGenerator(\n",
    "        zoom_range=2,  \n",
    "        rotation_range = 90,\n",
    "        horizontal_flip=True,  \n",
    "        vertical_flip=True)"
   ]
  },
  {
   "cell_type": "code",
   "execution_count": 21,
   "metadata": {
    "execution": {
     "iopub.execute_input": "2021-11-28T02:10:40.051605Z",
     "iopub.status.busy": "2021-11-28T02:10:40.051117Z",
     "iopub.status.idle": "2021-11-28T02:10:40.062278Z",
     "shell.execute_reply": "2021-11-28T02:10:40.061479Z",
     "shell.execute_reply.started": "2021-11-28T02:10:40.051572Z"
    }
   },
   "outputs": [],
   "source": [
    "from tensorflow.keras import backend as K\n",
    "\n",
    "def recall_m(y_true, y_pred):\n",
    "    true_positives = K.sum(K.round(K.clip(y_true * y_pred, 0, 1)))\n",
    "    possible_positives = K.sum(K.round(K.clip(y_true, 0, 1)))\n",
    "    recall = true_positives / (possible_positives + K.epsilon())\n",
    "    return recall\n",
    "\n",
    "def precision_m(y_true, y_pred):\n",
    "    true_positives = K.sum(K.round(K.clip(y_true * y_pred, 0, 1)))\n",
    "    predicted_positives = K.sum(K.round(K.clip(y_pred, 0, 1)))\n",
    "    precision = true_positives / (predicted_positives + K.epsilon())\n",
    "    return precision\n",
    "\n",
    "def f1_m(y_true, y_pred):\n",
    "    precision = precision_m(y_true, y_pred)\n",
    "    recall = recall_m(y_true, y_pred)\n",
    "    return 2*((precision*recall)/(precision+recall+K.epsilon()))"
   ]
  },
  {
   "cell_type": "code",
   "execution_count": 22,
   "metadata": {
    "execution": {
     "iopub.execute_input": "2021-11-28T02:10:40.063956Z",
     "iopub.status.busy": "2021-11-28T02:10:40.063507Z",
     "iopub.status.idle": "2021-11-28T02:10:40.071837Z",
     "shell.execute_reply": "2021-11-28T02:10:40.070830Z",
     "shell.execute_reply.started": "2021-11-28T02:10:40.063899Z"
    }
   },
   "outputs": [],
   "source": [
    "from tensorflow.keras import regularizers\n",
    "from tensorflow.keras.optimizers import SGD, RMSprop"
   ]
  },
  {
   "cell_type": "code",
   "execution_count": 23,
   "metadata": {
    "execution": {
     "iopub.execute_input": "2021-11-28T02:10:40.073641Z",
     "iopub.status.busy": "2021-11-28T02:10:40.073187Z",
     "iopub.status.idle": "2021-11-28T02:10:40.080162Z",
     "shell.execute_reply": "2021-11-28T02:10:40.079264Z",
     "shell.execute_reply.started": "2021-11-28T02:10:40.073609Z"
    }
   },
   "outputs": [],
   "source": [
    "from tensorflow.keras.layers import Dense, Dropout, Activation, Flatten"
   ]
  },
  {
   "cell_type": "code",
   "execution_count": 76,
   "metadata": {
    "execution": {
     "iopub.execute_input": "2021-11-28T02:55:31.377434Z",
     "iopub.status.busy": "2021-11-28T02:55:31.377116Z",
     "iopub.status.idle": "2021-11-28T02:55:31.631057Z",
     "shell.execute_reply": "2021-11-28T02:55:31.630255Z",
     "shell.execute_reply.started": "2021-11-28T02:55:31.377399Z"
    }
   },
   "outputs": [],
   "source": [
    "K.clear_session()\n",
    "gc.collect()\n",
    "\n",
    "def create_model():\n",
    "    json_file = open('../input/modelvggtransfer/model_v.json', 'r')\n",
    "    loaded_model_json = json_file.read()\n",
    "    json_file.close()\n",
    "    loaded_model = model_from_json(loaded_model_json)\n",
    "    loaded_model.load_weights('../input/modelvggtransfer/weights.best.hdf5')\n",
    "    \n",
    "    for layer in loaded_model.layers[-4:]:\n",
    "        layer.trainable = False\n",
    "\n",
    "    for layer in loaded_model.layers:\n",
    "        print(layer, layer.trainable)\n",
    "    \n",
    "    model = Sequential(loaded_model.layers[:-1], name='dense2')\n",
    "    \n",
    "    model.add(BatchNormalization(name='batch'))\n",
    "\n",
    "    model.add(Flatten(name='flatten2'))\n",
    "\n",
    "    model.add(Dense(256, activation='relu', name='dense1', kernel_regularizer=regularizers.l1_l2(l1=0.001,l2=0.001)))\n",
    "    model.add(Dropout(0.5, name='drop'))\n",
    "    model.add(Dense(1, activation='sigmoid', name='dense2'))   \n",
    "    model.summary()\n",
    "    \n",
    "    sgd = SGD(lr=1e-3, decay=1e-6, momentum=0.9, nesterov=True)\n",
    "    rms = RMSprop(lr=2e-5)\n",
    "    \n",
    "    model.compile(loss='binary_crossentropy', optimizer=sgd, metrics=['acc',f1_m])\n",
    "    \n",
    "    return model"
   ]
  },
  {
   "cell_type": "code",
   "execution_count": 41,
   "metadata": {
    "execution": {
     "iopub.execute_input": "2021-11-28T02:22:54.474492Z",
     "iopub.status.busy": "2021-11-28T02:22:54.473939Z",
     "iopub.status.idle": "2021-11-28T02:22:54.478171Z",
     "shell.execute_reply": "2021-11-28T02:22:54.477425Z",
     "shell.execute_reply.started": "2021-11-28T02:22:54.474454Z"
    }
   },
   "outputs": [],
   "source": [
    "from tensorflow.keras.models import load_model, model_from_json\n",
    "from tensorflow.keras.layers import GlobalAveragePooling2D, BatchNormalization"
   ]
  },
  {
   "cell_type": "code",
   "execution_count": 77,
   "metadata": {
    "execution": {
     "iopub.execute_input": "2021-11-28T02:55:36.329876Z",
     "iopub.status.busy": "2021-11-28T02:55:36.329332Z",
     "iopub.status.idle": "2021-11-28T02:55:38.187345Z",
     "shell.execute_reply": "2021-11-28T02:55:38.186590Z",
     "shell.execute_reply.started": "2021-11-28T02:55:36.329836Z"
    }
   },
   "outputs": [],
   "source": [
    "model = create_model()"
   ]
  },
  {
   "cell_type": "code",
   "execution_count": 78,
   "metadata": {
    "execution": {
     "iopub.execute_input": "2021-11-28T02:55:43.896000Z",
     "iopub.status.busy": "2021-11-28T02:55:43.895585Z",
     "iopub.status.idle": "2021-11-28T02:55:43.912286Z",
     "shell.execute_reply": "2021-11-28T02:55:43.911525Z",
     "shell.execute_reply.started": "2021-11-28T02:55:43.895967Z"
    }
   },
   "outputs": [],
   "source": [
    "_y_test = []\n",
    "_y_val = []\n",
    "_y_train = []\n",
    "for i in y_test:\n",
    "    _y_test.append(int(i))\n",
    "for i in y_train:\n",
    "    _y_train.append(int(i))\n",
    "for i in y_val:\n",
    "    _y_val.append(int(i))"
   ]
  },
  {
   "cell_type": "code",
   "execution_count": 79,
   "metadata": {
    "execution": {
     "iopub.execute_input": "2021-11-28T02:55:47.486972Z",
     "iopub.status.busy": "2021-11-28T02:55:47.486691Z",
     "iopub.status.idle": "2021-11-28T03:09:35.480634Z",
     "shell.execute_reply": "2021-11-28T03:09:35.479933Z",
     "shell.execute_reply.started": "2021-11-28T02:55:47.486940Z"
    }
   },
   "outputs": [],
   "source": [
    "history = model.fit(\n",
    "    train_generator.flow(X_train, y_train, batch_size=BATCH_SIZE),\n",
    "    steps_per_epoch=X_train.shape[0] / BATCH_SIZE,\n",
    "    epochs=15,\n",
    "    validation_data=(X_val, y_val))"
   ]
  },
  {
   "cell_type": "code",
   "execution_count": 80,
   "metadata": {
    "execution": {
     "iopub.execute_input": "2021-11-28T03:09:44.576806Z",
     "iopub.status.busy": "2021-11-28T03:09:44.576529Z",
     "iopub.status.idle": "2021-11-28T03:09:45.055089Z",
     "shell.execute_reply": "2021-11-28T03:09:45.054408Z",
     "shell.execute_reply.started": "2021-11-28T03:09:44.576776Z"
    }
   },
   "outputs": [],
   "source": [
    "acc = history.history['acc']\n",
    "\n",
    "val_acc = history.history['val_acc'] \n",
    "loss = history.history['loss']\n",
    "val_loss = history.history['val_loss']; \n",
    "epochs = range(1, len(acc) + 1) \n",
    "plt.plot(epochs, acc, 'bo', label='Training acc')\n",
    "plt.plot(epochs, val_acc, 'b', label='Validation acc')\n",
    "plt.title('Training and validation accuracy')\n",
    "plt.legend(loc='best')\n",
    "\n",
    "plt.figure()\n",
    "plt.plot(epochs, loss, 'bo', label='Training loss')\n",
    "plt.plot(epochs, val_loss, 'b', label='Validation loss')\n",
    "plt.title('Training and validation loss')\n",
    "plt.legend(loc='best')"
   ]
  },
  {
   "cell_type": "code",
   "execution_count": 81,
   "metadata": {
    "execution": {
     "iopub.execute_input": "2021-11-28T03:09:50.331965Z",
     "iopub.status.busy": "2021-11-28T03:09:50.331687Z",
     "iopub.status.idle": "2021-11-28T03:09:52.771131Z",
     "shell.execute_reply": "2021-11-28T03:09:52.770379Z",
     "shell.execute_reply.started": "2021-11-28T03:09:50.331930Z"
    }
   },
   "outputs": [],
   "source": [
    "loss, accuracy, f1_score = model.evaluate(X_test, y_test, verbose=0)"
   ]
  },
  {
   "cell_type": "code",
   "execution_count": 82,
   "metadata": {
    "execution": {
     "iopub.execute_input": "2021-11-28T03:09:56.082038Z",
     "iopub.status.busy": "2021-11-28T03:09:56.081749Z",
     "iopub.status.idle": "2021-11-28T03:09:56.088433Z",
     "shell.execute_reply": "2021-11-28T03:09:56.087205Z",
     "shell.execute_reply.started": "2021-11-28T03:09:56.082004Z"
    }
   },
   "outputs": [],
   "source": [
    "print('val_accuracy', accuracy)\n",
    "print('f1_score', f1_score)"
   ]
  },
  {
   "cell_type": "code",
   "execution_count": null,
   "metadata": {},
   "outputs": [],
   "source": []
  }
 ],
 "metadata": {
  "kernelspec": {
   "display_name": "Python 3",
   "language": "python",
   "name": "python3"
  },
  "language_info": {
   "codemirror_mode": {
    "name": "ipython",
    "version": 3
   },
   "file_extension": ".py",
   "mimetype": "text/x-python",
   "name": "python",
   "nbconvert_exporter": "python",
   "pygments_lexer": "ipython3",
   "version": "3.8.8"
  }
 },
 "nbformat": 4,
 "nbformat_minor": 4
}
