{
 "cells": [
  {
   "cell_type": "code",
   "execution_count": 1,
   "id": "88d2b8dc",
   "metadata": {},
   "outputs": [],
   "source": [
    "import numpy as np\n",
    "import cv2\n",
    "import os\n",
    "import glob\n",
    "import shutil                     "
   ]
  },
  {
   "cell_type": "code",
   "execution_count": 2,
   "id": "871965e2",
   "metadata": {},
   "outputs": [],
   "source": [
    "image_s = \"data/train/BENIGN/SOB_B_A-14-22549CD-200-021.png\""
   ]
  },
  {
   "cell_type": "code",
   "execution_count": 3,
   "id": "2d128e50",
   "metadata": {},
   "outputs": [],
   "source": [
    "image = cv2.imread(image_s)\n",
    "image_source = cv2.cvtColor(image, cv2.COLOR_BGR2LAB).astype(\"float32\")"
   ]
  },
  {
   "cell_type": "code",
   "execution_count": 4,
   "id": "62e89c51",
   "metadata": {},
   "outputs": [],
   "source": [
    "def getListOfFiles(dirName):\n",
    "    listOfFile = os.listdir(dirName)\n",
    "    allFiles = list()\n",
    "    for entry in listOfFile:\n",
    "        fullPath = os.path.join(dirName, entry)\n",
    "        if os.path.isdir(fullPath):\n",
    "            allFiles = allFiles + getListOfFiles(fullPath)\n",
    "        else:\n",
    "            allFiles.append(fullPath)\n",
    "                \n",
    "    return allFiles"
   ]
  },
  {
   "cell_type": "code",
   "execution_count": 12,
   "id": "b78ed9be",
   "metadata": {},
   "outputs": [],
   "source": [
    "cv_img = getListOfFiles('mm/tcga_coad_msi_mss/val/MSS')"
   ]
  },
  {
   "cell_type": "code",
   "execution_count": 13,
   "id": "39d90317",
   "metadata": {},
   "outputs": [
    {
     "data": {
      "text/plain": [
       "11727"
      ]
     },
     "execution_count": 13,
     "metadata": {},
     "output_type": "execute_result"
    }
   ],
   "source": [
    "len(cv_img)"
   ]
  },
  {
   "cell_type": "markdown",
   "id": "b6207dbd",
   "metadata": {},
   "source": [
    "cv_img = []\n",
    "for img in glob.glob(\"mm/tcga_coad_msi_mss/val/MSIMUT/*.jpg\"):\n",
    "    n= cv2.imread(img)\n",
    "    cv_img.append(n)"
   ]
  },
  {
   "cell_type": "markdown",
   "id": "53349a3a",
   "metadata": {},
   "source": [
    "cv_img = np.array(images)"
   ]
  },
  {
   "cell_type": "code",
   "execution_count": 14,
   "id": "79a3ef06",
   "metadata": {},
   "outputs": [],
   "source": [
    "def stats(image):\n",
    "    (l, a, b) = cv2.split(image)\n",
    "    (l_mean, l_std) = (l.mean(), l.std())\n",
    "    (a_mean, a_std) = (a.mean(), a.std())\n",
    "    (b_mean, b_std) = (b.mean(), b.std())\n",
    "\n",
    "    return (\n",
    "      l_mean, l_std, a_mean, a_std, b_mean, b_std \n",
    "    )"
   ]
  },
  {
   "cell_type": "code",
   "execution_count": 15,
   "id": "5c0ad8fb",
   "metadata": {},
   "outputs": [
    {
     "data": {
      "text/plain": [
       "11727"
      ]
     },
     "execution_count": 15,
     "metadata": {},
     "output_type": "execute_result"
    }
   ],
   "source": [
    "len(cv_img)"
   ]
  },
  {
   "cell_type": "code",
   "execution_count": 16,
   "id": "d2bb58ad",
   "metadata": {},
   "outputs": [],
   "source": [
    "def color_transfer():\n",
    "    n = 0\n",
    "    for image in cv_img:\n",
    "        #image_d = np.array(image)\n",
    "        image = cv2.imread(image)\n",
    "        image_destination = cv2.cvtColor(image,cv2.COLOR_BGR2LAB).astype(\"float32\")\n",
    "        \n",
    "        (l_mean_src, l_std_src, a_mean_src, a_std_src, b_mean_src, b_std_src) = stats(image_source)\n",
    "        (l_mean_dest, l_std_dest, a_mean_dest, a_std_dest, b_mean_dest, b_std_dest) = stats(image_destination)\n",
    "\n",
    "        (l, a, b) = cv2.split(image_destination)\n",
    "        l -= l_mean_dest\n",
    "        a -= a_mean_dest\n",
    "        b -= b_mean_dest\n",
    "\n",
    "        l = (l_std_dest / l_std_src) * l\n",
    "        a = (a_std_dest / a_std_src) * a\n",
    "        b = (b_std_dest / b_std_src) * b\n",
    "\n",
    "        l += l_mean_src\n",
    "        a += a_mean_src\n",
    "        b += b_mean_src\n",
    "\n",
    "        l = np.clip(l, 0, 255)\n",
    "        a = np.clip(a, 0, 255)\n",
    "        b = np.clip(b, 0, 255)\n",
    "        n = n + 1\n",
    "        color_transfer = cv2.merge([l, a, b])\n",
    "        color_transfer = cv2.cvtColor(color_transfer.astype(\"uint8\"), cv2.COLOR_LAB2BGR)\n",
    "        cv2.imwrite('MM-TC/test/MSS/mss'+str(n+1)+'.jpg',color_transfer)"
   ]
  },
  {
   "cell_type": "code",
   "execution_count": 17,
   "id": "0024a216",
   "metadata": {},
   "outputs": [],
   "source": [
    "kernel = np.ones((1,1), np.uint8)"
   ]
  },
  {
   "cell_type": "code",
   "execution_count": 18,
   "id": "5725c982",
   "metadata": {},
   "outputs": [
    {
     "data": {
      "text/plain": [
       "0"
      ]
     },
     "execution_count": 18,
     "metadata": {},
     "output_type": "execute_result"
    }
   ],
   "source": [
    "color_transfer()\n",
    "os.system(\"pause\")"
   ]
  },
  {
   "cell_type": "code",
   "execution_count": null,
   "id": "d9f37ba7",
   "metadata": {},
   "outputs": [],
   "source": []
  }
 ],
 "metadata": {
  "kernelspec": {
   "display_name": "Python 3",
   "language": "python",
   "name": "python3"
  },
  "language_info": {
   "codemirror_mode": {
    "name": "ipython",
    "version": 3
   },
   "file_extension": ".py",
   "mimetype": "text/x-python",
   "name": "python",
   "nbconvert_exporter": "python",
   "pygments_lexer": "ipython3",
   "version": "3.8.8"
  }
 },
 "nbformat": 4,
 "nbformat_minor": 5
}
